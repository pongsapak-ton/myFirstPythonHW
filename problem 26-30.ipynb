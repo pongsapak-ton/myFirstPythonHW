{
 "cells": [
  {
   "cell_type": "code",
   "execution_count": null,
   "metadata": {},
   "outputs": [],
   "source": [
    "#problem 26\n",
    "def myMax(listIn):\n",
    "    maxValue = listIn[0]\n",
    "    for i in listIn:\n",
    "        if maxValue < i:\n",
    "            maxValue = i\n",
    "    return maxValue\n",
    "\n",
    "def myMin(listIn):\n",
    "    minValue = listIn[0]\n",
    "    for i in listIn:\n",
    "        if minValue > i:\n",
    "            minValue = i\n",
    "    return minValue"
   ]
  },
  {
   "cell_type": "code",
   "execution_count": 2,
   "metadata": {},
   "outputs": [
    {
     "data": {
      "text/plain": [
       "[1, 3, 6, 10]"
      ]
     },
     "execution_count": 2,
     "metadata": {},
     "output_type": "execute_result"
    }
   ],
   "source": [
    "cumulative_sum([1,2,3,4])"
   ]
  },
  {
   "cell_type": "code",
   "execution_count": null,
   "metadata": {},
   "outputs": [],
   "source": [
    "#problem 27 \n",
    "def cumulative_sum(listNum): \n",
    "    cumvalue = listNum[0]\n",
    "    cumulist = []\n",
    "    cumulist.append(cumvalue)\n",
    "    for i in range(1,len(listNum)) :\n",
    "        cumvalue =  cumvalue + listNum[i]\n",
    "        cumulist.append(cumvalue)\n",
    "    return cumulist\n",
    " "
   ]
  },
  {
   "cell_type": "code",
   "execution_count": null,
   "metadata": {},
   "outputs": [],
   "source": []
  },
  {
   "cell_type": "code",
   "execution_count": 2,
   "metadata": {},
   "outputs": [],
   "source": [
    "#problem 28\n",
    "def cumulative_sum(listNum): \n",
    "    cumvalue = listNum[0]\n",
    "    cumulist = []\n",
    "    cumulist.append(cumvalue)\n",
    "    for i in range(1,len(listNum)) :\n",
    "        cumvalue =  cumvalue * listNum[i]\n",
    "        cumulist.append(cumvalue)\n",
    "    return cumulist\n",
    " "
   ]
  },
  {
   "cell_type": "code",
   "execution_count": null,
   "metadata": {},
   "outputs": [],
   "source": []
  },
  {
   "cell_type": "code",
   "execution_count": 4,
   "metadata": {},
   "outputs": [],
   "source": [
    "#problem 29\n",
    "def unique(listNum): \n",
    "    uniValue = listNum[0]\n",
    "    uniList = []\n",
    "    uniList.append(uniValue)\n",
    "    for i in range(1, len(listNum)):\n",
    "        uniqueCheck = 0\n",
    "        uniValue = listNum[i]\n",
    "        for j in  uniList : \n",
    "            if j == uniValue : \n",
    "                uniqueCheck = 1\n",
    "        if uniqueCheck == 0:\n",
    "             uniList.append(uniValue)\n",
    "\n",
    "    return uniList"
   ]
  },
  {
   "cell_type": "code",
   "execution_count": 5,
   "metadata": {},
   "outputs": [
    {
     "data": {
      "text/plain": [
       "[1, 2, 3, 4, 5, 6]"
      ]
     },
     "execution_count": 5,
     "metadata": {},
     "output_type": "execute_result"
    }
   ],
   "source": [
    "unique([1,2,1,3,4,4,5,5,1,6])"
   ]
  },
  {
   "cell_type": "code",
   "execution_count": 45,
   "metadata": {},
   "outputs": [],
   "source": [
    "#problem 30\n",
    "def findDuplicate(listIn):\n",
    "    duplicateList = []\n",
    "\n",
    "    for i in range(len(listIn)):\n",
    "        # print(\"i\", i)\n",
    "        # print(\"listIn[i]\", listIn[i])\n",
    "        for j in range(i+1, len(listIn)):\n",
    "            # print(\"่j\", j) \n",
    "            # print(\"listIn[j]\",listIn[j])\n",
    "            if listIn[j] == listIn[i]:\n",
    "                duplicateList.append(listIn[j])\n",
    "    return duplicateList"
   ]
  },
  {
   "cell_type": "code",
   "execution_count": 46,
   "metadata": {},
   "outputs": [
    {
     "data": {
      "text/plain": [
       "[1, 2]"
      ]
     },
     "execution_count": 46,
     "metadata": {},
     "output_type": "execute_result"
    }
   ],
   "source": [
    "findDuplicate([1,2,1,3,2,5])\n"
   ]
  },
  {
   "cell_type": "code",
   "execution_count": null,
   "metadata": {},
   "outputs": [],
   "source": []
  },
  {
   "cell_type": "code",
   "execution_count": null,
   "metadata": {},
   "outputs": [],
   "source": []
  },
  {
   "cell_type": "code",
   "execution_count": null,
   "metadata": {},
   "outputs": [],
   "source": [
    "\n",
    "\n",
    "\n"
   ]
  }
 ],
 "metadata": {
  "kernelspec": {
   "display_name": "Python 3",
   "language": "python",
   "name": "python3"
  },
  "language_info": {
   "codemirror_mode": {
    "name": "ipython",
    "version": 3
   },
   "file_extension": ".py",
   "mimetype": "text/x-python",
   "name": "python",
   "nbconvert_exporter": "python",
   "pygments_lexer": "ipython3",
   "version": "3.8.5"
  }
 },
 "nbformat": 4,
 "nbformat_minor": 2
}
